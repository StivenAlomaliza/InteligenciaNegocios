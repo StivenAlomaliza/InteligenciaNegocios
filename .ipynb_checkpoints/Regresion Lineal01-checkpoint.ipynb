{
 "cells": [
  {
   "cell_type": "code",
   "execution_count": 47,
   "metadata": {},
   "outputs": [],
   "source": [
    "import pandas as pd\n",
    "import numpy as np\n",
    "import matplotlib.pyplot as plt\n",
    "import seaborn as sns\n",
    "from sklearn.model_selection import train_test_split\n",
    "from sklearn.linear_model import LinearRegression\n",
    "from sklearn.metrics import r2_score, mean_squared_error"
   ]
  },
  {
   "cell_type": "code",
   "execution_count": 48,
   "metadata": {},
   "outputs": [
    {
     "data": {
      "text/html": [
       "<div>\n",
       "<style scoped>\n",
       "    .dataframe tbody tr th:only-of-type {\n",
       "        vertical-align: middle;\n",
       "    }\n",
       "\n",
       "    .dataframe tbody tr th {\n",
       "        vertical-align: top;\n",
       "    }\n",
       "\n",
       "    .dataframe thead th {\n",
       "        text-align: right;\n",
       "    }\n",
       "</style>\n",
       "<table border=\"1\" class=\"dataframe\">\n",
       "  <thead>\n",
       "    <tr style=\"text-align: right;\">\n",
       "      <th></th>\n",
       "      <th>No</th>\n",
       "      <th>Peso Kg</th>\n",
       "      <th>Consumo litros/100Km</th>\n",
       "    </tr>\n",
       "  </thead>\n",
       "  <tbody>\n",
       "    <tr>\n",
       "      <th>0</th>\n",
       "      <td>1</td>\n",
       "      <td>981</td>\n",
       "      <td>11</td>\n",
       "    </tr>\n",
       "    <tr>\n",
       "      <th>1</th>\n",
       "      <td>2</td>\n",
       "      <td>878</td>\n",
       "      <td>12</td>\n",
       "    </tr>\n",
       "    <tr>\n",
       "      <th>2</th>\n",
       "      <td>3</td>\n",
       "      <td>708</td>\n",
       "      <td>8</td>\n",
       "    </tr>\n",
       "    <tr>\n",
       "      <th>3</th>\n",
       "      <td>4</td>\n",
       "      <td>1138</td>\n",
       "      <td>11</td>\n",
       "    </tr>\n",
       "    <tr>\n",
       "      <th>4</th>\n",
       "      <td>5</td>\n",
       "      <td>1064</td>\n",
       "      <td>13</td>\n",
       "    </tr>\n",
       "  </tbody>\n",
       "</table>\n",
       "</div>"
      ],
      "text/plain": [
       "   No  Peso Kg  Consumo litros/100Km\n",
       "0   1      981                    11\n",
       "1   2      878                    12\n",
       "2   3      708                     8\n",
       "3   4     1138                    11\n",
       "4   5     1064                    13"
      ]
     },
     "execution_count": 48,
     "metadata": {},
     "output_type": "execute_result"
    }
   ],
   "source": [
    "datos = pd.read_excel('D:/3.-InteligenciaClase/Dataset/Precio_Consumo.xlsx')\n",
    "datos.head()"
   ]
  },
  {
   "cell_type": "code",
   "execution_count": 49,
   "metadata": {},
   "outputs": [
    {
     "data": {
      "text/html": [
       "<div>\n",
       "<style scoped>\n",
       "    .dataframe tbody tr th:only-of-type {\n",
       "        vertical-align: middle;\n",
       "    }\n",
       "\n",
       "    .dataframe tbody tr th {\n",
       "        vertical-align: top;\n",
       "    }\n",
       "\n",
       "    .dataframe thead th {\n",
       "        text-align: right;\n",
       "    }\n",
       "</style>\n",
       "<table border=\"1\" class=\"dataframe\">\n",
       "  <thead>\n",
       "    <tr style=\"text-align: right;\">\n",
       "      <th></th>\n",
       "      <th>Peso</th>\n",
       "      <th>Consumo</th>\n",
       "    </tr>\n",
       "  </thead>\n",
       "  <tbody>\n",
       "    <tr>\n",
       "      <th>0</th>\n",
       "      <td>981</td>\n",
       "      <td>11</td>\n",
       "    </tr>\n",
       "    <tr>\n",
       "      <th>1</th>\n",
       "      <td>878</td>\n",
       "      <td>12</td>\n",
       "    </tr>\n",
       "    <tr>\n",
       "      <th>2</th>\n",
       "      <td>708</td>\n",
       "      <td>8</td>\n",
       "    </tr>\n",
       "    <tr>\n",
       "      <th>3</th>\n",
       "      <td>1138</td>\n",
       "      <td>11</td>\n",
       "    </tr>\n",
       "    <tr>\n",
       "      <th>4</th>\n",
       "      <td>1064</td>\n",
       "      <td>13</td>\n",
       "    </tr>\n",
       "  </tbody>\n",
       "</table>\n",
       "</div>"
      ],
      "text/plain": [
       "   Peso  Consumo\n",
       "0   981       11\n",
       "1   878       12\n",
       "2   708        8\n",
       "3  1138       11\n",
       "4  1064       13"
      ]
     },
     "execution_count": 49,
     "metadata": {},
     "output_type": "execute_result"
    }
   ],
   "source": [
    "datos1 = datos[['No', 'Peso Kg','Consumo litros/100Km']]\n",
    "\n",
    "datos1 = datos1.drop('No', axis=1)\n",
    "datos1.columns = ['Peso','Consumo']\n",
    "datos1.head()"
   ]
  },
  {
   "cell_type": "code",
   "execution_count": 50,
   "metadata": {},
   "outputs": [
    {
     "name": "stdout",
     "output_type": "stream",
     "text": [
      "<class 'pandas.core.frame.DataFrame'>\n",
      "RangeIndex: 30 entries, 0 to 29\n",
      "Data columns (total 2 columns):\n",
      " #   Column   Non-Null Count  Dtype\n",
      "---  ------   --------------  -----\n",
      " 0   Peso     30 non-null     int64\n",
      " 1   Consumo  30 non-null     int64\n",
      "dtypes: int64(2)\n",
      "memory usage: 612.0 bytes\n"
     ]
    }
   ],
   "source": [
    "datos1.info()"
   ]
  },
  {
   "cell_type": "code",
   "execution_count": 58,
   "metadata": {},
   "outputs": [
    {
     "data": {
      "image/png": "[encoded data removed]",
      "text/plain": [
       "<Figure size 640x480 with 1 Axes>"
      ]
     },
     "metadata": {},
     "output_type": "display_data"
    }
   ],
   "source": [
    "plt.scatter(x=datos1['Peso'],y=datos1['Consumo'],c='Blue',marker='*');"
   ]
  },
  {
   "cell_type": "code",
   "execution_count": 52,
   "metadata": {},
   "outputs": [
    {
     "data": {
      "text/html": [
       "<style type=\"text/css\">\n",
       "#T_846a7_row0_col0, #T_846a7_row1_col1 {\n",
       "  background-color: skyblue;\n",
       "}\n",
       "</style>\n",
       "<table id=\"T_846a7\">\n",
       "  <thead>\n",
       "    <tr>\n",
       "      <th class=\"blank level0\" >&nbsp;</th>\n",
       "      <th id=\"T_846a7_level0_col0\" class=\"col_heading level0 col0\" >Peso</th>\n",
       "      <th id=\"T_846a7_level0_col1\" class=\"col_heading level0 col1\" >Consumo</th>\n",
       "    </tr>\n",
       "  </thead>\n",
       "  <tbody>\n",
       "    <tr>\n",
       "      <th id=\"T_846a7_level0_row0\" class=\"row_heading level0 row0\" >Peso</th>\n",
       "      <td id=\"T_846a7_row0_col0\" class=\"data row0 col0\" >1.000000</td>\n",
       "      <td id=\"T_846a7_row0_col1\" class=\"data row0 col1\" >0.928509</td>\n",
       "    </tr>\n",
       "    <tr>\n",
       "      <th id=\"T_846a7_level0_row1\" class=\"row_heading level0 row1\" >Consumo</th>\n",
       "      <td id=\"T_846a7_row1_col0\" class=\"data row1 col0\" >0.928509</td>\n",
       "      <td id=\"T_846a7_row1_col1\" class=\"data row1 col1\" >1.000000</td>\n",
       "    </tr>\n",
       "  </tbody>\n",
       "</table>\n"
      ],
      "text/plain": [
       "<pandas.io.formats.style.Styler at 0x110eeb55e50>"
      ]
     },
     "execution_count": 52,
     "metadata": {},
     "output_type": "execute_result"
    }
   ],
   "source": [
    "datos1.corr().style.highlight_max(color='skyblue')"
   ]
  },
  {
   "cell_type": "code",
   "execution_count": 59,
   "metadata": {},
   "outputs": [
    {
     "data": {
      "image/png": "[encoded data removed]",
      "text/plain": [
       "<Figure size 640x480 with 2 Axes>"
      ]
     },
     "metadata": {},
     "output_type": "display_data"
    }
   ],
   "source": [
    "sns.heatmap(datos1.corr(), annot=True,fmt='2g', linewidths=1.5, cmap='tab20c');\n",
    "#https://matplotlib.org/stable/users/explain/colors/colormaps.html"
   ]
  },
  {
   "cell_type": "code",
   "execution_count": 55,
   "metadata": {},
   "outputs": [
    {
     "data": {
      "text/plain": [
       "array([[11.43654154],\n",
       "       [10.22828097],\n",
       "       [ 8.23406449],\n",
       "       [13.27825912],\n",
       "       [12.41018841],\n",
       "       [ 7.61233818],\n",
       "       [14.86190161],\n",
       "       [17.34880687],\n",
       "       [15.95285533],\n",
       "       [15.77689506],\n",
       "       [19.10840965],\n",
       "       [10.48635604],\n",
       "       [10.34558782],\n",
       "       [ 8.91444423],\n",
       "       [11.43654154],\n",
       "       [ 8.48040888],\n",
       "       [12.05826786],\n",
       "       [16.16400767],\n",
       "       [ 9.03175108],\n",
       "       [ 9.72386151],\n",
       "       [ 7.55368475],\n",
       "       [11.14327441],\n",
       "       [ 7.99945079],\n",
       "       [ 8.32790997],\n",
       "       [ 7.06099598],\n",
       "       [ 9.3367489 ],\n",
       "       [18.43976059],\n",
       "       [ 7.99945079],\n",
       "       [17.06727043],\n",
       "       [18.18168552]])"
      ]
     },
     "execution_count": 55,
     "metadata": {},
     "output_type": "execute_result"
    }
   ],
   "source": [
    "\n",
    "x = datos1[['Peso']]\n",
    "y = datos1[['Consumo']]\n",
    "\n",
    "regresion = LinearRegression()\n",
    "regresion.fit(x, y)\n",
    "y_pred = regresion.predict(x)\n",
    "y_pred"
   ]
  },
  {
   "cell_type": "code",
   "execution_count": 56,
   "metadata": {},
   "outputs": [
    {
     "name": "stdout",
     "output_type": "stream",
     "text": [
      "0.8621293337804034\n",
      "[-0.07126061]\n",
      "[[0.01173069]]\n"
     ]
    }
   ],
   "source": [
    "print (regresion.score(x,y))\n",
    "print(regresion.intercept_)\n",
    "print(regresion.coef_)"
   ]
  },
  {
   "cell_type": "code",
   "execution_count": 60,
   "metadata": {},
   "outputs": [
    {
     "name": "stdout",
     "output_type": "stream",
     "text": [
      "2.2218623809433677\n"
     ]
    },
    {
     "data": {
      "image/png": "[encoded data removed]",
      "text/plain": [
       "<Figure size 640x480 with 1 Axes>"
      ]
     },
     "metadata": {},
     "output_type": "display_data"
    }
   ],
   "source": [
    "x1=np.arange(len(y_pred))\n",
    "plt.scatter(x1, (y-y_pred),c='skyblue')\n",
    "plt.plot([0,len(y_pred)],[0,0], 'b-')\n",
    "plt.title('Grafica de residuos$\\hat r2_s$')\n",
    "\n",
    "error= mean_squared_error(y, y_pred)\n",
    "print(error)\n",
    "\n",
    "plt.plot([0,len(y_pred)],[error,error],'g-.')\n",
    "plt.plot([0,len(y_pred)],[-error,-error],'g-.');"
   ]
  }
 ],
 "metadata": {
  "kernelspec": {
   "display_name": "Python 3",
   "language": "python",
   "name": "python3"
  },
  "language_info": {
   "codemirror_mode": {
    "name": "ipython",
    "version": 3
   },
   "file_extension": ".py",
   "mimetype": "text/x-python",
   "name": "python",
   "nbconvert_exporter": "python",
   "pygments_lexer": "ipython3",
   "version": "3.11.5"
  }
 },
 "nbformat": 4,
 "nbformat_minor": 2
}
